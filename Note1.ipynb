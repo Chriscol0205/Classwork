{
 "cells": [
  {
   "cell_type": "code",
   "execution_count": 16,
   "id": "e494dc79-2eb5-4390-a97a-2ee33a5f1643",
   "metadata": {},
   "outputs": [],
   "source": [
    "name=\"Christian\"\n",
    "age=30"
   ]
  },
  {
   "cell_type": "code",
   "execution_count": 17,
   "id": "3e68db77-b61d-4df8-abee-c7d8a82f3a26",
   "metadata": {},
   "outputs": [
    {
     "name": "stdout",
     "output_type": "stream",
     "text": [
      "My name is Christian and my age is 30\n"
     ]
    }
   ],
   "source": [
    "print(\"My name is\", name, \"and my age is\", age)"
   ]
  },
  {
   "cell_type": "code",
   "execution_count": 1,
   "id": "6f70972b-7297-4de8-b835-a1667a4a8ec4",
   "metadata": {},
   "outputs": [
    {
     "name": "stdout",
     "output_type": "stream",
     "text": [
      "Samantha\n"
     ]
    }
   ],
   "source": [
    "print(\"Samantha\")"
   ]
  },
  {
   "cell_type": "code",
   "execution_count": 2,
   "id": "cfae902a-402c-4dce-93dc-eee0bf066e56",
   "metadata": {},
   "outputs": [],
   "source": [
    "x=5\n",
    "name=\"Samantha\"\n",
    "age=30"
   ]
  },
  {
   "cell_type": "code",
   "execution_count": 3,
   "id": "c2e7b711-d0db-42de-8cce-5209f7075a97",
   "metadata": {},
   "outputs": [
    {
     "name": "stdout",
     "output_type": "stream",
     "text": [
      "My name is Samantha and my age is 30 and i have 5 apples\n"
     ]
    }
   ],
   "source": [
    "print(\"My name is\", name, \"and my age is\", age, \"and i have\", x, \"apples\")"
   ]
  },
  {
   "cell_type": "code",
   "execution_count": null,
   "id": "b6c8915f-6429-4038-a843-9271c56c1a92",
   "metadata": {},
   "outputs": [],
   "source": []
  },
  {
   "cell_type": "code",
   "execution_count": 4,
   "id": "c6922b63-33e6-4c9d-aa90-f534d6cd1657",
   "metadata": {},
   "outputs": [],
   "source": [
    "x=\"10\"\n",
    "name=\"5\""
   ]
  },
  {
   "cell_type": "code",
   "execution_count": 5,
   "id": "b6ecbe18-a055-43e8-ab27-1870e186027a",
   "metadata": {},
   "outputs": [
    {
     "name": "stdout",
     "output_type": "stream",
     "text": [
      "10 5\n"
     ]
    }
   ],
   "source": [
    "print(x, name)"
   ]
  },
  {
   "cell_type": "code",
   "execution_count": 6,
   "id": "a7358ee4-8f03-406d-848c-8b53681198d7",
   "metadata": {},
   "outputs": [],
   "source": [
    "n = 42\n",
    "f = 3.14\n",
    "s = \"Hello World\"\n",
    "d = {'Key': 'Value'}\n",
    "bool = True"
   ]
  },
  {
   "cell_type": "code",
   "execution_count": 8,
   "id": "56d953e3-9765-4469-b9b8-ee4307a76bc8",
   "metadata": {},
   "outputs": [
    {
     "name": "stdout",
     "output_type": "stream",
     "text": [
      "<class 'int'>\n",
      "<class 'float'>\n",
      "<class 'str'>\n",
      "<class 'dict'>\n",
      "<class 'bool'>\n"
     ]
    }
   ],
   "source": [
    "print(type(n))\n",
    "print(type(f))\n",
    "print(type(s))\n",
    "print(type(d))\n",
    "print(type(bool))"
   ]
  },
  {
   "cell_type": "code",
   "execution_count": 12,
   "id": "de30bf1b-29c4-4b54-bf8e-bb9b25a9002a",
   "metadata": {},
   "outputs": [],
   "source": [
    "def f():\n",
    " a = \"I am local\"\n",
    " print(a)"
   ]
  },
  {
   "cell_type": "code",
   "execution_count": 13,
   "id": "d6e66e66-3eed-4ce8-aba6-bfe0a7427b50",
   "metadata": {},
   "outputs": [
    {
     "name": "stdout",
     "output_type": "stream",
     "text": [
      "I am local\n"
     ]
    }
   ],
   "source": [
    "f()"
   ]
  },
  {
   "cell_type": "code",
   "execution_count": 15,
   "id": "f7345983-8316-43a0-b5d0-8ead83be895a",
   "metadata": {},
   "outputs": [],
   "source": [
    "def f():\n",
    " global a \n",
    " a = \"Modified globally\"\n",
    " print(a)\n"
   ]
  },
  {
   "cell_type": "code",
   "execution_count": 16,
   "id": "8eaede43-2b8e-4183-9a4b-eb141055ba3c",
   "metadata": {},
   "outputs": [
    {
     "name": "stdout",
     "output_type": "stream",
     "text": [
      "Modified globally\n",
      "Modified globally\n"
     ]
    }
   ],
   "source": [
    "f()\n",
    "print(a)"
   ]
  },
  {
   "cell_type": "code",
   "execution_count": 17,
   "id": "84209239-ad25-49ef-87fd-bab849940fcd",
   "metadata": {},
   "outputs": [],
   "source": [
    "del x"
   ]
  },
  {
   "cell_type": "code",
   "execution_count": 18,
   "id": "6a0455fe-9c4c-4cc3-a728-8f18bcc97884",
   "metadata": {},
   "outputs": [
    {
     "name": "stdout",
     "output_type": "stream",
     "text": [
      "Modified globally\n"
     ]
    }
   ],
   "source": [
    "print(a)"
   ]
  },
  {
   "cell_type": "code",
   "execution_count": 19,
   "id": "2812740b-2a35-400c-b8bd-d3e204b55cea",
   "metadata": {},
   "outputs": [],
   "source": [
    "del a"
   ]
  },
  {
   "cell_type": "code",
   "execution_count": 21,
   "id": "1d249476-e9c5-406e-b8e6-210f2e2cd065",
   "metadata": {},
   "outputs": [],
   "source": [
    "a, b =5, 10\n",
    "a, b = b, a"
   ]
  },
  {
   "cell_type": "code",
   "execution_count": 22,
   "id": "bf2212a7-1cb9-4108-9279-2ea409156779",
   "metadata": {},
   "outputs": [
    {
     "name": "stdout",
     "output_type": "stream",
     "text": [
      "10 5\n"
     ]
    }
   ],
   "source": [
    "print(a, b)"
   ]
  },
  {
   "cell_type": "code",
   "execution_count": 23,
   "id": "7108627a-9353-4383-902d-b5b74b0a8bc8",
   "metadata": {},
   "outputs": [],
   "source": [
    "word = \"Python\"\n",
    "length = len(word)"
   ]
  },
  {
   "cell_type": "code",
   "execution_count": 25,
   "id": "a9310206-3250-4a01-b054-8b86ae2c1ed3",
   "metadata": {},
   "outputs": [
    {
     "name": "stdout",
     "output_type": "stream",
     "text": [
      "Length of the word is 6\n"
     ]
    }
   ],
   "source": [
    "print(\"Length of the word is\", length)"
   ]
  },
  {
   "cell_type": "code",
   "execution_count": 26,
   "id": "d04c7ae5-d62b-4d67-8a22-e6a3c9d7ade1",
   "metadata": {},
   "outputs": [
    {
     "name": "stdout",
     "output_type": "stream",
     "text": [
      "\n"
     ]
    }
   ],
   "source": [
    "print()"
   ]
  },
  {
   "cell_type": "code",
   "execution_count": 27,
   "id": "123e8cf5-e8da-48da-a04d-cbac58dc5d55",
   "metadata": {},
   "outputs": [
    {
     "name": "stdout",
     "output_type": "stream",
     "text": [
      "The list of keywords is:\n"
     ]
    }
   ],
   "source": [
    "print(\"The list of keywords is:\")"
   ]
  },
  {
   "cell_type": "code",
   "execution_count": 29,
   "id": "97719f65-29e0-4bd8-b6a1-a0107ad83d95",
   "metadata": {},
   "outputs": [
    {
     "name": "stdout",
     "output_type": "stream",
     "text": [
      "The list of keyword is:\n"
     ]
    },
    {
     "ename": "NameError",
     "evalue": "name 'keyword' is not defined",
     "output_type": "error",
     "traceback": [
      "\u001b[1;31m---------------------------------------------------------------------------\u001b[0m",
      "\u001b[1;31mNameError\u001b[0m                                 Traceback (most recent call last)",
      "Cell \u001b[1;32mIn[29], line 2\u001b[0m\n\u001b[0;32m      1\u001b[0m \u001b[38;5;28mprint\u001b[39m(\u001b[38;5;124m\"\u001b[39m\u001b[38;5;124mThe list of keyword is:\u001b[39m\u001b[38;5;124m\"\u001b[39m)\n\u001b[1;32m----> 2\u001b[0m \u001b[38;5;28mprint\u001b[39m(\u001b[43mkeyword\u001b[49m\u001b[38;5;241m.\u001b[39mkwlist)\n",
      "\u001b[1;31mNameError\u001b[0m: name 'keyword' is not defined"
     ]
    }
   ],
   "source": [
    "print(\"The list of keyword is:\")\n",
    "print(keyword.kwlist)"
   ]
  },
  {
   "cell_type": "code",
   "execution_count": 30,
   "id": "c367b091-e8d9-47ac-a4fb-f75afc37f6a9",
   "metadata": {},
   "outputs": [],
   "source": [
    "character_name = \"Tom\"\n",
    "character_age = 50"
   ]
  },
  {
   "cell_type": "code",
   "execution_count": 36,
   "id": "3879a9fa-b85b-4b3a-9afb-1761c34ce109",
   "metadata": {},
   "outputs": [
    {
     "name": "stdout",
     "output_type": "stream",
     "text": [
      "There was a man named Tom ,\n",
      "he was 30 years old.\n",
      "He really liked the name Mike ,\n",
      "but didn't like being 50 .\n"
     ]
    }
   ],
   "source": [
    "print(\"There was a man named\",character_name,\",\")\n",
    "print(\"he was\" ,age, \"years old.\")\n",
    "character_name = \"Mike\"\n",
    "print(\"He really liked the name\" ,character_name ,\",\")\n",
    "print(\"but didn't like being\" , character_age , \".\")"
   ]
  },
  {
   "cell_type": "code",
   "execution_count": 40,
   "id": "29fc27c9-7d59-435e-aadc-0fb99316a4d3",
   "metadata": {},
   "outputs": [
    {
     "name": "stdout",
     "output_type": "stream",
     "text": [
      "Chris\"Academy\n"
     ]
    }
   ],
   "source": [
    "print(\"Chris\\\"Academy\")"
   ]
  },
  {
   "cell_type": "code",
   "execution_count": 44,
   "id": "9cf7d184-a569-4ef3-bffa-7d2effd580dc",
   "metadata": {},
   "outputs": [],
   "source": [
    "phrase = \"Chris academy\""
   ]
  },
  {
   "cell_type": "code",
   "execution_count": 50,
   "id": "3e4bfdf7-5937-4c86-a19e-73ebd5cf09d9",
   "metadata": {},
   "outputs": [
    {
     "name": "stdout",
     "output_type": "stream",
     "text": [
      "False is cool\n"
     ]
    }
   ],
   "source": [
    "print(phrase.isupper(), \"is cool\")"
   ]
  },
  {
   "cell_type": "code",
   "execution_count": 51,
   "id": "22bf6447-589a-417c-b359-9b6ae5512718",
   "metadata": {},
   "outputs": [
    {
     "name": "stdout",
     "output_type": "stream",
     "text": [
      "13\n"
     ]
    }
   ],
   "source": [
    "print(len(phrase))"
   ]
  },
  {
   "cell_type": "code",
   "execution_count": 52,
   "id": "228bb60e-10eb-4488-ad78-43cae7512e55",
   "metadata": {},
   "outputs": [
    {
     "name": "stdout",
     "output_type": "stream",
     "text": [
      "C\n"
     ]
    }
   ],
   "source": [
    "print(phrase[0])"
   ]
  },
  {
   "cell_type": "code",
   "execution_count": 53,
   "id": "207fc750-7c5a-4537-9648-e0bb69300e47",
   "metadata": {},
   "outputs": [
    {
     "name": "stdout",
     "output_type": "stream",
     "text": [
      "i\n"
     ]
    }
   ],
   "source": [
    "print(phrase[3])"
   ]
  },
  {
   "cell_type": "code",
   "execution_count": 54,
   "id": "2ce75dd8-80c3-456c-8e88-3a53ef3d2017",
   "metadata": {},
   "outputs": [
    {
     "name": "stdout",
     "output_type": "stream",
     "text": [
      "Iheukwu academy\n"
     ]
    }
   ],
   "source": [
    "print(phrase.replace(\"Chris\", \"Iheukwu\"))"
   ]
  },
  {
   "cell_type": "code",
   "execution_count": 57,
   "id": "1dceaef8-0144-495f-b326-b1d30f6e0bed",
   "metadata": {},
   "outputs": [
    {
     "name": "stdout",
     "output_type": "stream",
     "text": [
      "-2.098\n"
     ]
    }
   ],
   "source": [
    "print(-2.098)"
   ]
  },
  {
   "cell_type": "code",
   "execution_count": 58,
   "id": "82dd373d-845e-4ced-8165-bc40334c0b25",
   "metadata": {},
   "outputs": [
    {
     "name": "stdout",
     "output_type": "stream",
     "text": [
      "7.5\n"
     ]
    }
   ],
   "source": [
    "print(3 + 4.5)"
   ]
  },
  {
   "cell_type": "code",
   "execution_count": 59,
   "id": "153f3b60-da12-45a8-a6a9-c740d64971a0",
   "metadata": {},
   "outputs": [
    {
     "name": "stdout",
     "output_type": "stream",
     "text": [
      "9\n"
     ]
    }
   ],
   "source": [
    "print(3*3)"
   ]
  },
  {
   "cell_type": "code",
   "execution_count": 60,
   "id": "879a01c8-0a14-41a4-bcd0-74c08af60a7e",
   "metadata": {},
   "outputs": [
    {
     "name": "stdout",
     "output_type": "stream",
     "text": [
      "1.0\n"
     ]
    }
   ],
   "source": [
    "print(3/3)"
   ]
  },
  {
   "cell_type": "code",
   "execution_count": 61,
   "id": "6dbc0e60-c26e-408b-83e0-da898934bbc2",
   "metadata": {},
   "outputs": [
    {
     "name": "stdout",
     "output_type": "stream",
     "text": [
      "12\n"
     ]
    }
   ],
   "source": [
    "print(3*(2+2))"
   ]
  },
  {
   "cell_type": "code",
   "execution_count": 62,
   "id": "d00653f1-f949-4e98-b6d7-0f0d3a77257d",
   "metadata": {},
   "outputs": [
    {
     "name": "stdout",
     "output_type": "stream",
     "text": [
      "1\n"
     ]
    }
   ],
   "source": [
    "print(10%3)"
   ]
  },
  {
   "cell_type": "code",
   "execution_count": 63,
   "id": "31c120c3-c5f9-4a2a-b590-730f8b25c336",
   "metadata": {},
   "outputs": [],
   "source": [
    "num = 5"
   ]
  },
  {
   "cell_type": "code",
   "execution_count": 66,
   "id": "2e94ba3d-d9e1-4dd0-b4b1-f7c74c267cc6",
   "metadata": {},
   "outputs": [
    {
     "name": "stdout",
     "output_type": "stream",
     "text": [
      "5 is my fav number\n"
     ]
    }
   ],
   "source": [
    "print(num, \"is my fav number\")"
   ]
  },
  {
   "cell_type": "code",
   "execution_count": 67,
   "id": "d56e8d75-4281-48fe-be18-b74b63f213c6",
   "metadata": {},
   "outputs": [
    {
     "data": {
      "text/plain": [
       "4"
      ]
     },
     "execution_count": 67,
     "metadata": {},
     "output_type": "execute_result"
    }
   ],
   "source": [
    "2 + 2"
   ]
  },
  {
   "cell_type": "code",
   "execution_count": 68,
   "id": "2515b8d7-d046-44d5-bd6c-a7c764a717e6",
   "metadata": {},
   "outputs": [
    {
     "data": {
      "text/plain": [
       "6"
      ]
     },
     "execution_count": 68,
     "metadata": {},
     "output_type": "execute_result"
    }
   ],
   "source": [
    "2+2\n",
    "3+3"
   ]
  },
  {
   "cell_type": "code",
   "execution_count": 69,
   "id": "7cb44736-41bc-40e1-9c8b-b8f7ef9b679e",
   "metadata": {},
   "outputs": [],
   "source": [
    "# this is just trying"
   ]
  },
  {
   "cell_type": "markdown",
   "id": "c1b0fc80-414d-4c40-ab92-2e0bf4ebf16a",
   "metadata": {},
   "source": [
    "This is normal text \n",
    "# Heading \n",
    "**bold**\n"
   ]
  },
  {
   "cell_type": "code",
   "execution_count": 70,
   "id": "56988a45-cab7-4796-ab16-675a1a9941e7",
   "metadata": {},
   "outputs": [
    {
     "data": {
      "text/plain": [
       "4"
      ]
     },
     "execution_count": 70,
     "metadata": {},
     "output_type": "execute_result"
    }
   ],
   "source": [
    "2+2"
   ]
  },
  {
   "cell_type": "code",
   "execution_count": null,
   "id": "baad5794-8de2-4618-9857-d079d2a3ad62",
   "metadata": {},
   "outputs": [
    {
     "name": "stdout",
     "output_type": "stream",
     "text": [
      "Enter your name: Chris\n",
      "Enter your age: 30\n"
     ]
    },
    {
     "name": "stdout",
     "output_type": "stream",
     "text": [
      "Hello Chris , you are 30\n"
     ]
    }
   ],
   "source": [
    "# name = input(\"Enter your name:\")\n",
    "# age = input(\"Enter your age:\")\n",
    "print(\"Hello\",name,\", you are\",age,)"
   ]
  },
  {
   "cell_type": "code",
   "execution_count": null,
   "id": "008b5423-6160-403a-8426-dddab24392c7",
   "metadata": {},
   "outputs": [
    {
     "name": "stdout",
     "output_type": "stream",
     "text": [
      "Enter a number: 10\n",
      "Enter another number: 20\n"
     ]
    },
    {
     "name": "stdout",
     "output_type": "stream",
     "text": [
      "30\n"
     ]
    }
   ],
   "source": [
    "num1 = input(\"Enter a number:\")\n",
    "num2 = input(\"Enter another number:\")\n",
    "result = int(num1) + int(num2)\n",
    "print(result)"
   ]
  },
  {
   "cell_type": "code",
   "execution_count": 4,
   "id": "85a7aaa7-8d39-4071-8ef1-919eb038b75c",
   "metadata": {},
   "outputs": [
    {
     "name": "stdout",
     "output_type": "stream",
     "text": [
      "Enter a color: Red\n",
      "Enter a plural noun: Diamond\n",
      "Enter a celebrity: Chris\n"
     ]
    },
    {
     "name": "stdout",
     "output_type": "stream",
     "text": [
      "Roses are Red\n",
      "Diamond are blue:\n",
      "I love Chris\n"
     ]
    }
   ],
   "source": [
    "color = input(\"Enter a color:\")\n",
    "plural_noun = input(\"Enter a plural noun:\")\n",
    "celebrity = input(\"Enter a celebrity:\")\n",
    "print(\"Roses are\", color,)\n",
    "print(plural_noun, \"are blue:\")\n",
    "print(\"I love\", celebrity,)"
   ]
  },
  {
   "cell_type": "code",
   "execution_count": 5,
   "id": "8b087c46-2288-4a15-b72b-2de017f5b6e0",
   "metadata": {},
   "outputs": [],
   "source": [
    "# creating a list\n"
   ]
  },
  {
   "cell_type": "code",
   "execution_count": 6,
   "id": "49b75904-0782-4573-8d9b-2a7d0d60f94e",
   "metadata": {},
   "outputs": [],
   "source": [
    "friends = [\"Kelvin\", \"Karen\", \"jim\"]"
   ]
  },
  {
   "cell_type": "code",
   "execution_count": 7,
   "id": "234a4128-d9bb-4b14-9a62-a6b833ed9a96",
   "metadata": {},
   "outputs": [
    {
     "name": "stdout",
     "output_type": "stream",
     "text": [
      "['Kelvin', 'Karen', 'jim']\n"
     ]
    }
   ],
   "source": [
    "print(friends)"
   ]
  },
  {
   "cell_type": "code",
   "execution_count": 8,
   "id": "843535d0-e4f6-4e76-9594-2aeae34ee5ee",
   "metadata": {},
   "outputs": [
    {
     "name": "stdout",
     "output_type": "stream",
     "text": [
      "Kelvin\n"
     ]
    }
   ],
   "source": [
    "print(friends[0])"
   ]
  },
  {
   "cell_type": "code",
   "execution_count": 11,
   "id": "244d5a0a-7d31-40e4-95fd-46a90414fbd9",
   "metadata": {},
   "outputs": [
    {
     "name": "stdout",
     "output_type": "stream",
     "text": [
      "jim\n"
     ]
    }
   ],
   "source": [
    "print(friends[2])"
   ]
  },
  {
   "cell_type": "code",
   "execution_count": 17,
   "id": "63b8fc2e-55fd-4f9b-a512-61af2a9d7be8",
   "metadata": {},
   "outputs": [
    {
     "name": "stdout",
     "output_type": "stream",
     "text": [
      "jim\n"
     ]
    }
   ],
   "source": [
    "print(friends[-1])"
   ]
  },
  {
   "cell_type": "code",
   "execution_count": 18,
   "id": "26d732bb-1fcc-4793-ae95-6d02378a955b",
   "metadata": {},
   "outputs": [
    {
     "name": "stdout",
     "output_type": "stream",
     "text": [
      "('ab', 'cd', 'ef')\n"
     ]
    }
   ],
   "source": [
    "my_str = \"abcdef\"\n",
    "new_str = my_str.partition(\"cd\")\n",
    "print(new_str)"
   ]
  },
  {
   "cell_type": "code",
   "execution_count": 19,
   "id": "4331613c-0c25-43b1-a709-413eb96bd040",
   "metadata": {},
   "outputs": [],
   "source": [
    "x = [1,2,3]"
   ]
  },
  {
   "cell_type": "code",
   "execution_count": 20,
   "id": "f5f07874-eb61-430d-be74-b03aa36f3223",
   "metadata": {},
   "outputs": [],
   "source": [
    "x.remove(2)"
   ]
  },
  {
   "cell_type": "code",
   "execution_count": 21,
   "id": "93df4540-7316-45d8-93ef-0700ed5db955",
   "metadata": {},
   "outputs": [
    {
     "name": "stdout",
     "output_type": "stream",
     "text": [
      "[1, 3]\n"
     ]
    }
   ],
   "source": [
    "print(x)"
   ]
  },
  {
   "cell_type": "code",
   "execution_count": 22,
   "id": "40ce97f8-481e-4546-a47b-3228494024ff",
   "metadata": {},
   "outputs": [],
   "source": [
    "# List funtions"
   ]
  },
  {
   "cell_type": "code",
   "execution_count": 23,
   "id": "185ee92f-cf38-4e2b-8873-878e4a98b139",
   "metadata": {},
   "outputs": [],
   "source": [
    "lucky_numbers = [4,8,15,16,23,42]\n",
    "friends = [\"Kevin\", \"Karen\", \"Jim\", \"Oscar\", \"Tom\"]\n"
   ]
  },
  {
   "cell_type": "code",
   "execution_count": 24,
   "id": "7902fffb-65fa-4455-ad0c-e044c449308c",
   "metadata": {},
   "outputs": [
    {
     "name": "stdout",
     "output_type": "stream",
     "text": [
      "['Kevin', 'Karen', 'Jim', 'Oscar', 'Tom']\n"
     ]
    }
   ],
   "source": [
    "print(friends)"
   ]
  },
  {
   "cell_type": "code",
   "execution_count": 26,
   "id": "b8d09b2b-2ed4-4244-bd42-9ac38553acfe",
   "metadata": {},
   "outputs": [
    {
     "name": "stdout",
     "output_type": "stream",
     "text": [
      "Oscar\n"
     ]
    }
   ],
   "source": [
    "print(friends[3])"
   ]
  },
  {
   "cell_type": "code",
   "execution_count": 27,
   "id": "99bea6a4-93f1-425b-935d-65af7323d5b2",
   "metadata": {},
   "outputs": [],
   "source": [
    "friends.remove(\"Jim\")"
   ]
  },
  {
   "cell_type": "code",
   "execution_count": 34,
   "id": "7ca00425-daba-4ff3-86f5-24819ce6bebc",
   "metadata": {},
   "outputs": [
    {
     "name": "stdout",
     "output_type": "stream",
     "text": [
      "['Kevin', 'Karen', 'Tom']\n"
     ]
    }
   ],
   "source": [
    "print(friends)"
   ]
  },
  {
   "cell_type": "code",
   "execution_count": 35,
   "id": "c626dcce-90a4-446c-8c15-be22bc0e02b0",
   "metadata": {},
   "outputs": [],
   "source": [
    "lucky_numbers.sort()"
   ]
  },
  {
   "cell_type": "code",
   "execution_count": 37,
   "id": "e40e125f-3724-4fcc-8531-8ec790cba419",
   "metadata": {},
   "outputs": [
    {
     "name": "stdout",
     "output_type": "stream",
     "text": [
      "[4, 8, 15, 16, 23, 42]\n"
     ]
    }
   ],
   "source": [
    "print(lucky_numbers)"
   ]
  },
  {
   "cell_type": "code",
   "execution_count": 38,
   "id": "aa2d46c2-4cbf-40a1-8d21-5f37abd68e07",
   "metadata": {},
   "outputs": [],
   "source": [
    "lucky_numbers.reverse()"
   ]
  },
  {
   "cell_type": "code",
   "execution_count": 39,
   "id": "a9a078c5-eae8-4376-80c9-669bfe3dc8f6",
   "metadata": {},
   "outputs": [
    {
     "name": "stdout",
     "output_type": "stream",
     "text": [
      "[42, 23, 16, 15, 8, 4]\n"
     ]
    }
   ],
   "source": [
    "print(lucky_numbers)"
   ]
  },
  {
   "cell_type": "code",
   "execution_count": 40,
   "id": "841211c4-f676-412f-92e8-f82cc9afc6bb",
   "metadata": {},
   "outputs": [],
   "source": [
    "# Tuples "
   ]
  },
  {
   "cell_type": "code",
   "execution_count": 41,
   "id": "22eacbd7-d6e9-4eab-b518-c53309bd8ede",
   "metadata": {},
   "outputs": [],
   "source": [
    "coordinates = (4, 5)\n"
   ]
  },
  {
   "cell_type": "code",
   "execution_count": 42,
   "id": "964e33bb-cfd0-42ef-8140-610e8223fde2",
   "metadata": {},
   "outputs": [
    {
     "name": "stdout",
     "output_type": "stream",
     "text": [
      "4\n"
     ]
    }
   ],
   "source": [
    "print(coordinates[0])"
   ]
  },
  {
   "cell_type": "code",
   "execution_count": 43,
   "id": "7f034e9c-1004-4173-8860-6163e72e7187",
   "metadata": {},
   "outputs": [
    {
     "name": "stdout",
     "output_type": "stream",
     "text": [
      "5\n"
     ]
    }
   ],
   "source": [
    "print(coordinates[1])"
   ]
  },
  {
   "cell_type": "code",
   "execution_count": 45,
   "id": "c258df77-23b8-4de8-bb57-0c742fa51a6d",
   "metadata": {},
   "outputs": [],
   "source": [
    "# functions; a collection of codes which performs specific task"
   ]
  },
  {
   "cell_type": "code",
   "execution_count": null,
   "id": "d073acad-c033-4a47-9ea3-12ae9bdf594e",
   "metadata": {},
   "outputs": [],
   "source": [
    "y = chris\n",
    "x = mike\n",
    "print(y,x)"
   ]
  },
  {
   "cell_type": "code",
   "execution_count": null,
   "id": "434c258b",
   "metadata": {},
   "outputs": [],
   "source": []
  }
 ],
 "metadata": {
  "kernelspec": {
   "display_name": "Python 3 (ipykernel)",
   "language": "python",
   "name": "python3"
  },
  "language_info": {
   "codemirror_mode": {
    "name": "ipython",
    "version": 3
   },
   "file_extension": ".py",
   "mimetype": "text/x-python",
   "name": "python",
   "nbconvert_exporter": "python",
   "pygments_lexer": "ipython3",
   "version": "3.13.1"
  }
 },
 "nbformat": 4,
 "nbformat_minor": 5
}
