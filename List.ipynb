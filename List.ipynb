{
 "cells": [
  {
   "cell_type": "code",
   "execution_count": 17,
   "id": "61a7e1fd-3cc6-4149-8393-441e96406d00",
   "metadata": {},
   "outputs": [],
   "source": [
    "                                   # Introduction to list\n",
    "# A list is a collection of similar or different types of data items.\n",
    "\n",
    "# A list is created by placing items inside [] separated by commas\n",
    "\n",
    "# Example 1. A list of 10 natural numnbers \n",
    "\n",
    "# numbers = [1,2,3,4,5,6,7,8,9,10]\n",
    "\n",
    "# Example 2. An empty list\n",
    "# numbers = []\n",
    "\n",
    "# Example 3. A list of duplicate items\n",
    "# number = [1,2,2,3,3,4,4,4,4,4]\n",
    "\n",
    "# Example 4. A list with different types of items\n",
    "# items = [1,2, \"N\", \"Go\", 3.14159]\n",
    "\n",
    "# Features of a list\n",
    "# 1. A list can have duplicate items \n",
    "# 2. Items in a list are mutable (changeable)\n",
    "# 3. Lists can store items of various types\n",
    "\n",
    "\n"
   ]
  },
  {
   "cell_type": "code",
   "execution_count": 18,
   "id": "32cde55b-6a03-4094-8ae0-1d12082a7647",
   "metadata": {},
   "outputs": [
    {
     "name": "stdout",
     "output_type": "stream",
     "text": [
      "5\n",
      "15\n"
     ]
    }
   ],
   "source": [
    "\n",
    "                          # Accessing Elements of a single-dimentional list\n",
    "# A single-dimentional list is a list where elements are listed one after the other\n",
    "# Each element is allotted a unique number called index\n",
    "\n",
    "# Example: A list containing multiples of 5 up to 20\n",
    "\n",
    "my_list = [5, 10, 15, 20]\n",
    "print(my_list[0])\n",
    "print(my_list[2])"
   ]
  },
  {
   "cell_type": "code",
   "execution_count": 19,
   "id": "ea919a10-3e97-45c5-a719-599cfe96eae6",
   "metadata": {},
   "outputs": [
    {
     "name": "stdout",
     "output_type": "stream",
     "text": [
      "20\n",
      "5\n"
     ]
    }
   ],
   "source": [
    "                        # Negative indexing\n",
    "\n",
    "my_list = [5, 10, 15, 20]\n",
    "print(my_list[-1])\n",
    "print(my_list[-4])"
   ]
  },
  {
   "cell_type": "code",
   "execution_count": 4,
   "id": "134c6474-c22c-4139-97ad-a9e4caf7ab99",
   "metadata": {},
   "outputs": [
    {
     "name": "stdout",
     "output_type": "stream",
     "text": [
      "[1, 2, 3]\n",
      "Chris\n",
      "[4, 5, 6]\n",
      "1\n",
      "5\n"
     ]
    }
   ],
   "source": [
    "                   # Accessing elements of a multi-dimentional list\n",
    "# A multi-dimentional list is a list contianing another list\n",
    "\n",
    "# Example:\n",
    "\n",
    "my_list2 = [1, 2, 3], \"Chris\", [4, 5, 6]\n",
    "\n",
    "print(my_list2[0])\n",
    "\n",
    "print(my_list2[1])\n",
    "\n",
    "print(my_list2[2])\n",
    "\n",
    "print(my_list2[0][0])\n",
    "\n",
    "print(my_list2[2][1])\n"
   ]
  },
  {
   "cell_type": "code",
   "execution_count": 33,
   "id": "b03acb80-b2fc-4aec-a54d-a1887ae32ca4",
   "metadata": {},
   "outputs": [
    {
     "name": "stdout",
     "output_type": "stream",
     "text": [
      "b\n"
     ]
    }
   ],
   "source": [
    "# Example: consider the following list below. How do you access the value \"b\" in the list below\n",
    "\n",
    "my_list3 = [1, 2, 3], \"abc\" , [5, 6]\n",
    "\n",
    "print(my_list3[1][1])"
   ]
  },
  {
   "cell_type": "code",
   "execution_count": 39,
   "id": "b28a0631-f2e7-414d-ba78-893e1edb6db8",
   "metadata": {},
   "outputs": [
    {
     "name": "stdout",
     "output_type": "stream",
     "text": [
      "['c', 'cpp', 'java', 'python']\n",
      "['c', 'cpp', 'java', 'python', 'ruby', 'javascript', 'php']\n",
      "['c', 'cpp', 'java', 'python', 'ruby', 'javascript', 'php', ['chris', 'christian']]\n"
     ]
    }
   ],
   "source": [
    "# Adding Elements to a list\n",
    "\n",
    "# Append method is used to add a specific item at the end of a list\n",
    "# Syntax: list.append(value)\n",
    "\n",
    "languages = [\"c\", \"cpp\", \"java\"]\n",
    "languages.append(\"python\")\n",
    "\n",
    "print(languages)\n",
    "\n",
    "# To add multiple items using the append method. \n",
    "# Duplicate append() method to add multiple items\n",
    "\n",
    "languages.append(\"ruby\")\n",
    "languages.append(\"javascript\")\n",
    "languages.append(\"php\")\n",
    "\n",
    "print(languages)\n",
    "\n",
    "# A list as an item can be added using append() method\n",
    "\n",
    "languages.append([\"chris\", \"christian\"])\n",
    "\n",
    "print(languages)"
   ]
  },
  {
   "cell_type": "code",
   "execution_count": 11,
   "id": "d26347e9-7902-42d6-a2bd-597893cdfc90",
   "metadata": {},
   "outputs": [
    {
     "name": "stdout",
     "output_type": "stream",
     "text": [
      "['ruby', 'c', 'cpp', 'java', 'c++']\n"
     ]
    }
   ],
   "source": [
    "                # Insert() Method\n",
    "# This is a built-in method used to add an item at a specific position\n",
    "# Syntax: list.insert(position, value)\n",
    "\n",
    "languages = [\"c\", \"cpp\", \"java\"]\n",
    "languages.insert(0, \"ruby\")\n",
    "languages.insert(4, \"c++\")\n",
    "\n",
    "print(languages)"
   ]
  },
  {
   "cell_type": "code",
   "execution_count": 45,
   "id": "cb930d33-3a5e-48f3-b087-1e01acea3618",
   "metadata": {},
   "outputs": [
    {
     "name": "stdout",
     "output_type": "stream",
     "text": [
      "['c', 'cpp', 'java', 'python', 'javascript']\n"
     ]
    }
   ],
   "source": [
    "             # Extend() method\n",
    "# A built-in method used to add all items of one list in another list\n",
    "# Syntax: list1.extend(list2)\n",
    "\n",
    "languages = [\"c\", \"cpp\", \"java\"]\n",
    "more_languages = [\"python\", \"javascript\"]\n",
    "\n",
    "languages.extend(more_languages)\n",
    "\n",
    "print(languages)\n"
   ]
  },
  {
   "cell_type": "code",
   "execution_count": 15,
   "id": "6559b9d2-de98-4f42-9ac3-82eb62351606",
   "metadata": {},
   "outputs": [
    {
     "name": "stdin",
     "output_type": "stream",
     "text": [
      "Enter a list of numbers 4\n",
      " 3\n",
      " 5\n",
      " 6\n",
      " 5\n"
     ]
    },
    {
     "name": "stdout",
     "output_type": "stream",
     "text": [
      "[3, 5, 6, 5]\n"
     ]
    }
   ],
   "source": [
    "# How to input a list using loops\n",
    "\n",
    "n = int(input(\"Enter a list of numbers\"))\n",
    "\n",
    "numbers = []\n",
    "\n",
    "for i in range(n):\n",
    "    x = int(input())\n",
    "    numbers.append(x)\n",
    "\n",
    "print(numbers)"
   ]
  },
  {
   "cell_type": "code",
   "execution_count": 52,
   "id": "e3ec350c-773b-4e74-9417-54ecabcd2710",
   "metadata": {},
   "outputs": [
    {
     "data": {
      "text/plain": [
       "['I', 'am', 'John']"
      ]
     },
     "execution_count": 52,
     "metadata": {},
     "output_type": "execute_result"
    }
   ],
   "source": [
    "# Input a list using split() Method\n",
    "# - Revising the split method\n",
    "# - Input a list using split() Method\n",
    "\n",
    "# Split method is used to split a string into a list of substrings\n",
    "# Syntax: string.split(separator, maxsplit)\n",
    "\n",
    "# Example\n",
    "\n",
    "sentence = \"I am John\"\n",
    "sentence.split()"
   ]
  },
  {
   "cell_type": "code",
   "execution_count": 54,
   "id": "0eb84ea3-3154-4a8f-ab9f-83d1b54a18dd",
   "metadata": {},
   "outputs": [
    {
     "name": "stdin",
     "output_type": "stream",
     "text": [
      "Enter the numbers:  67 80 95 5\n"
     ]
    },
    {
     "name": "stdout",
     "output_type": "stream",
     "text": [
      "['67', '80', '95', '5']\n"
     ]
    }
   ],
   "source": [
    "# Input a list using split method\n",
    "# Accepting a list of numbers is easier using split() method\n",
    "\n",
    "# Example: Create a list of numbers 67, 80, 95, and 5\n",
    "\n",
    "numbers = input(\"Enter the numbers: \").split()\n",
    "print(numbers)"
   ]
  },
  {
   "cell_type": "code",
   "execution_count": 59,
   "id": "29216bb3-3354-41a7-958d-5483e1635adf",
   "metadata": {},
   "outputs": [
    {
     "name": "stdout",
     "output_type": "stream",
     "text": [
      "Hi, Chris\n",
      "Hi, Chris\n",
      "Hi, Chris\n"
     ]
    }
   ],
   "source": [
    "# Input a list using split() method and loops\n",
    "\n",
    "# Basics of for loops\n",
    "# for loop is used to repeat a specific code a certain number of times.\n",
    "\n",
    "for i in range(0, 3):\n",
    "    print(\"Hi, Chris\")"
   ]
  },
  {
   "cell_type": "code",
   "execution_count": 65,
   "id": "207869f0-ee40-489d-a86d-305133594588",
   "metadata": {},
   "outputs": [
    {
     "name": "stdin",
     "output_type": "stream",
     "text": [
      "Enter the number of elements:  4\n",
      "Enter the numbers:  67 80 95 5\n"
     ]
    },
    {
     "name": "stdout",
     "output_type": "stream",
     "text": [
      "[67, 80, 95, 5]\n"
     ]
    }
   ],
   "source": [
    "# Accepting a list using split() and for loop\n",
    "\n",
    "n = int(input(\"Enter the number of elements: \"))\n",
    "\n",
    "numbers = input(\"Enter the numbers: \").split()\n",
    "\n",
    "for i in range(0, n):\n",
    "    numbers[i] = int(numbers[i])\n",
    "print(numbers)"
   ]
  },
  {
   "cell_type": "code",
   "execution_count": 2,
   "id": "2eadb527-3d0a-43f1-8b5b-88822b180aa9",
   "metadata": {},
   "outputs": [
    {
     "name": "stdout",
     "output_type": "stream",
     "text": [
      "['Rob', 'Jennifer', 1, 2, 'Bob']\n",
      "['Rob', 'Jennifer', 'Michael', 2, 'Bob']\n"
     ]
    }
   ],
   "source": [
    "                    # Changing list items in python\n",
    "\n",
    "# Changing an item\n",
    "# To change an item, refer to the index of the item\n",
    "\n",
    "list = [\"Rob\", \"Jennifer\", 1, 2, \"Bob\"]\n",
    "print(list)\n",
    "list[2] = \"Michael\"\n",
    "print(list)\n"
   ]
  },
  {
   "cell_type": "code",
   "execution_count": 4,
   "id": "114f694f-9107-419a-b599-4fda063f4de6",
   "metadata": {},
   "outputs": [
    {
     "name": "stdout",
     "output_type": "stream",
     "text": [
      "['Rob', 'Jennifer', 1, 2, 'Bob']\n",
      "['Rob', 'Jennifer', 'Michael', 'Anderson', 'Emma', 'Bob']\n",
      "['Rob', 'Jennifer', 'Michael', 'Emma', 'Bob']\n"
     ]
    }
   ],
   "source": [
    "# Changing multiple items.\n",
    "# In place of a single value, pass a range of values\n",
    "\n",
    "list = [\"Rob\", \"Jennifer\", 1, 2, \"Bob\"]\n",
    "print(list)\n",
    "\n",
    "list[2:4] = [\"Michael\", \"Anderson\", \"Emma\"]\n",
    "print(list)\n",
    "\n",
    "list[2:4] = [\"Michael\"]\n",
    "print(list)"
   ]
  },
  {
   "cell_type": "code",
   "execution_count": 5,
   "id": "d86185f2-1925-479e-bdfe-2f590661b396",
   "metadata": {},
   "outputs": [
    {
     "name": "stdout",
     "output_type": "stream",
     "text": [
      "['Rob', 'Jennifer', 1, 2, 'Bob']\n",
      "['Rob', 'Jennifer', 'Mike', 1, 2, 'Bob']\n"
     ]
    }
   ],
   "source": [
    "# Inserting a new item\n",
    "# The insert() method can be used.\n",
    "# Syntax: list.insert(index, item)\n",
    "\n",
    "list = [\"Rob\", \"Jennifer\", 1, 2, \"Bob\"]\n",
    "print(list)\n",
    "list.insert(2, \"Mike\")\n",
    "print(list)\n"
   ]
  },
  {
   "cell_type": "code",
   "execution_count": 6,
   "id": "d5e9e67a-4e1c-464d-a01e-5d7033fff313",
   "metadata": {},
   "outputs": [
    {
     "name": "stdout",
     "output_type": "stream",
     "text": [
      "['John', 'Mike', 'David']\n",
      "['Mike', 'David']\n"
     ]
    }
   ],
   "source": [
    "                    # Removing list items in python\n",
    "\n",
    "# Remove an item using the remove() Method\n",
    "# Remove method removes the specified item\n",
    "\n",
    "li =[\"John\", \"Mike\", \"David\"]\n",
    "print(li)\n",
    "li.remove(\"John\")\n",
    "print(li)"
   ]
  },
  {
   "cell_type": "code",
   "execution_count": 8,
   "id": "0c90bc3d-2492-40f2-a724-4d2c294cd13d",
   "metadata": {},
   "outputs": [
    {
     "name": "stdout",
     "output_type": "stream",
     "text": [
      "['John', 'Mike', 'David']\n",
      "['John', 'David']\n",
      "['John', 'Mike']\n"
     ]
    }
   ],
   "source": [
    "# Remove an item using the pop() Method\n",
    "# The pop method is used to removed an item at a specified index\n",
    "\n",
    "li =[\"John\", \"Mike\", \"David\"]\n",
    "print(li)\n",
    "li.pop(1)\n",
    "print(li)\n",
    "\n",
    "# If the index of the item is not specified, then the last item will be deleted\n",
    "li =[\"John\", \"Mike\", \"David\"]\n",
    "li.pop()\n",
    "print(li)"
   ]
  },
  {
   "cell_type": "code",
   "execution_count": 10,
   "id": "0f107531-0491-4053-a301-a28a47b2d16b",
   "metadata": {},
   "outputs": [
    {
     "name": "stdout",
     "output_type": "stream",
     "text": [
      "['John', 'Mike', 'David']\n",
      "['Mike', 'David']\n"
     ]
    },
    {
     "ename": "NameError",
     "evalue": "name 'li' is not defined",
     "output_type": "error",
     "traceback": [
      "\u001b[31m---------------------------------------------------------------------------\u001b[39m",
      "\u001b[31mNameError\u001b[39m                                 Traceback (most recent call last)",
      "\u001b[36mCell\u001b[39m\u001b[36m \u001b[39m\u001b[32mIn[10]\u001b[39m\u001b[32m, line 12\u001b[39m\n\u001b[32m     10\u001b[39m li =[\u001b[33m\"\u001b[39m\u001b[33mJohn\u001b[39m\u001b[33m\"\u001b[39m, \u001b[33m\"\u001b[39m\u001b[33mMike\u001b[39m\u001b[33m\"\u001b[39m, \u001b[33m\"\u001b[39m\u001b[33mDavid\u001b[39m\u001b[33m\"\u001b[39m]\n\u001b[32m     11\u001b[39m \u001b[38;5;28;01mdel\u001b[39;00m li\n\u001b[32m---> \u001b[39m\u001b[32m12\u001b[39m \u001b[38;5;28mprint\u001b[39m(\u001b[43mli\u001b[49m)\n",
      "\u001b[31mNameError\u001b[39m: name 'li' is not defined"
     ]
    }
   ],
   "source": [
    "# Remove an item using the del keyword\n",
    "# It is also used to remove an item at the specified index\n",
    "\n",
    "li =[\"John\", \"Mike\", \"David\"]\n",
    "print(li)\n",
    "del li[0]\n",
    "print(li)\n",
    "\n",
    "# Del keyword can also be used to remove the list completely\n",
    "li =[\"John\", \"Mike\", \"David\"]\n",
    "del li\n",
    "print(li)"
   ]
  },
  {
   "cell_type": "code",
   "execution_count": 11,
   "id": "574fb1cd-8a81-4550-89db-02a8b96bee18",
   "metadata": {},
   "outputs": [
    {
     "name": "stdout",
     "output_type": "stream",
     "text": [
      "['John', 'Mike', 'David']\n",
      "[]\n"
     ]
    }
   ],
   "source": [
    "# Clear the list using the clear() Method\n",
    "# This method can empty the list\n",
    "\n",
    "li =[\"John\", \"Mike\", \"David\"]\n",
    "print(li)\n",
    "li.clear()\n",
    "print(li)"
   ]
  },
  {
   "cell_type": "code",
   "execution_count": 21,
   "id": "fb6fbf6b-27af-405d-8413-2b38c4588c10",
   "metadata": {},
   "outputs": [
    {
     "name": "stdout",
     "output_type": "stream",
     "text": [
      "['John', 'James', 'Jimmy']\n",
      "['John', 'James', 'Jimmy']\n",
      "['John', 'James', 'Emmy', 'Michael', 'Jimmy']\n"
     ]
    }
   ],
   "source": [
    "                # List comprehension\n",
    "# Introduction to list conprehension\n",
    "# List comprehension provides a shorter syntax while creating a new list from the existing list\n",
    "\n",
    "names = [\"John\", \"James\", \"Emmy\", \"Michael\", \"Jimmy\"]\n",
    "j_names = []\n",
    "for name in names:\n",
    "    if \"J\" in name:\n",
    "        j_names.append(name)\n",
    "print(j_names)\n",
    "\n",
    "# Using list comprehension, we can reduce the lines of codes.\n",
    "# Syntax: list = [expression for item in iterable if condition == True]\n",
    "\n",
    "names =  [\"John\", \"James\", \"Emmy\", \"Michael\", \"Jimmy\"]\n",
    "j_names = [name for name in names if \"J\" in name]\n",
    "print(j_names)\n",
    "\n",
    "# To create copy of the list\n",
    "\n",
    "names_copy = [name for name in names]\n",
    "print(names_copy)"
   ]
  },
  {
   "cell_type": "code",
   "execution_count": 20,
   "id": "994769c1-549b-459f-acfa-008b55b2e4dc",
   "metadata": {},
   "outputs": [
    {
     "name": "stdout",
     "output_type": "stream",
     "text": [
      "[]\n"
     ]
    }
   ],
   "source": [
    "# Home work: Convert the following into a list compression \n",
    "# animals = [\"lion\", \"tiger\", \"monkey\", \"elephant\", \"frog\"]\n",
    "# filtered_animals = []\n",
    "# for animal in animals:\n",
    "#     filtered_animals.append(animal.title())\n",
    "\n",
    "\n",
    "animals = [\"lion\", \"tiger\", \"monkey\", \"elephant\", \"frog\"]\n",
    "filtered_animals = [animal for animal in animals if \"T\" in animals]\n",
    "print(filtered_animals)"
   ]
  },
  {
   "cell_type": "code",
   "execution_count": null,
   "id": "2b581877-4d70-4068-b1ae-9b584ea8bb63",
   "metadata": {},
   "outputs": [],
   "source": []
  }
 ],
 "metadata": {
  "kernelspec": {
   "display_name": "Python 3 (ipykernel)",
   "language": "python",
   "name": "python3"
  },
  "language_info": {
   "codemirror_mode": {
    "name": "ipython",
    "version": 3
   },
   "file_extension": ".py",
   "mimetype": "text/x-python",
   "name": "python",
   "nbconvert_exporter": "python",
   "pygments_lexer": "ipython3",
   "version": "3.13.2"
  }
 },
 "nbformat": 4,
 "nbformat_minor": 5
}
