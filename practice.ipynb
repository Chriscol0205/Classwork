{
 "cells": [
  {
   "cell_type": "code",
   "execution_count": 1,
   "id": "012bbb5e-c7ba-488e-8567-5327c137e75d",
   "metadata": {},
   "outputs": [],
   "source": [
    "patient_name = \"John Smith\"\n",
    "patient_age = 20\n",
    "is_new = True"
   ]
  },
  {
   "cell_type": "code",
   "execution_count": 1,
   "id": "a41d678b",
   "metadata": {},
   "outputs": [
    {
     "name": "stdout",
     "output_type": "stream",
     "text": [
      "Hello\n"
     ]
    }
   ],
   "source": [
    "print(\"Hello\")"
   ]
  },
  {
   "cell_type": "code",
   "execution_count": 2,
   "id": "903a27ca-80c9-4e3e-84ad-f5782a4ed345",
   "metadata": {},
   "outputs": [
    {
     "data": {
      "text/plain": [
       "'John Smith'"
      ]
     },
     "execution_count": 2,
     "metadata": {},
     "output_type": "execute_result"
    }
   ],
   "source": [
    "patient_name"
   ]
  },
  {
   "cell_type": "code",
   "execution_count": null,
   "id": "c0fb0bc0-501b-48cc-926c-feda7ae7c307",
   "metadata": {},
   "outputs": [],
   "source": [
    "name = input(\"Enter your name\")\n",
    "print(\"Hi\",name)"
   ]
  },
  {
   "cell_type": "code",
   "execution_count": null,
   "id": "64e2fc4c-b4b2-45b7-b075-b54f026dac72",
   "metadata": {},
   "outputs": [
    {
     "name": "stdout",
     "output_type": "stream",
     "text": [
      "What is your name? Chris\n",
      "What is your favourite colour Blue\n"
     ]
    },
    {
     "name": "stdout",
     "output_type": "stream",
     "text": [
      "Hi Chris your favourite colour is Blue\n",
      "Chris likes Blue\n"
     ]
    }
   ],
   "source": [
    "name = input(\"What is your name?\")\n",
    "colour = input(\"What is your favourite colour\")\n",
    "print(\"Hi\", name, \"your favourite colour is\", colour)\n",
    "print(name, \"likes\", colour)"
   ]
  },
  {
   "cell_type": "code",
   "execution_count": null,
   "id": "dd0045a9-cbd0-481f-a51f-8be85b9c2389",
   "metadata": {},
   "outputs": [
    {
     "name": "stdout",
     "output_type": "stream",
     "text": [
      "Your year of birth 1982\n",
      "The current year 2025\n"
     ]
    },
    {
     "name": "stdout",
     "output_type": "stream",
     "text": [
      "your age is 43\n"
     ]
    }
   ],
   "source": [
    "birth_year = int(input(\"Your year of birth\"))\n",
    "current_year = int(input(\"The current year\"))\n",
    "age = current_year - birth_year\n",
    "print(\"your age is\", age)"
   ]
  },
  {
   "cell_type": "code",
   "execution_count": null,
   "id": "0e6ae43c-f720-4e8f-91e1-8875752f94db",
   "metadata": {},
   "outputs": [
    {
     "name": "stdout",
     "output_type": "stream",
     "text": [
      "What is your weight in pounds 155\n"
     ]
    },
    {
     "name": "stdout",
     "output_type": "stream",
     "text": [
      "Your weight is 70.37\n"
     ]
    }
   ],
   "source": [
    "weight = int(input(\"What is your weight in pounds\"))\n",
    "kg = 0.454\n",
    "pounds = weight * kg\n",
    "print(\"Your weight is\", pounds)"
   ]
  },
  {
   "cell_type": "code",
   "execution_count": null,
   "id": "410d1494-117a-4ab9-8b3c-8f85ae1cc2ca",
   "metadata": {},
   "outputs": [
    {
     "name": "stdout",
     "output_type": "stream",
     "text": [
      "THIS IS AN UPPER CASE\n",
      "this is an upper case\n"
     ]
    }
   ],
   "source": [
    "course = \"This is an upper case\"\n",
    "\n",
    "print(course.upper())\n",
    "print(course.lower())"
   ]
  },
  {
   "cell_type": "code",
   "execution_count": null,
   "id": "8978f595-505b-41f7-b97e-bd8a3309ed80",
   "metadata": {},
   "outputs": [
    {
     "name": "stdout",
     "output_type": "stream",
     "text": [
      "16\n"
     ]
    }
   ],
   "source": [
    "x = 10 + 3 * 2\n",
    "print(x)"
   ]
  },
  {
   "cell_type": "code",
   "execution_count": null,
   "id": "c23dd26f-f91f-4b4e-b639-76254a9c5b76",
   "metadata": {},
   "outputs": [
    {
     "name": "stdout",
     "output_type": "stream",
     "text": [
      "3\n"
     ]
    }
   ],
   "source": [
    "x = 2.9\n",
    "print(round(x))"
   ]
  },
  {
   "cell_type": "code",
   "execution_count": null,
   "id": "3aa3629b-672b-4f49-bd28-bf887bfd4246",
   "metadata": {},
   "outputs": [
    {
     "name": "stdout",
     "output_type": "stream",
     "text": [
      "3\n"
     ]
    }
   ],
   "source": [
    "import math\n",
    "\n",
    "print(math.ceil(2.9))"
   ]
  },
  {
   "cell_type": "code",
   "execution_count": null,
   "id": "95193571-146d-48f0-bd21-660fcb89e5fa",
   "metadata": {},
   "outputs": [
    {
     "name": "stdout",
     "output_type": "stream",
     "text": [
      "Enjoy your day\n"
     ]
    }
   ],
   "source": [
    "is_hot = False\n",
    "if is_hot:\n",
    "    print(\"it's a hot day\")\n",
    "else:\n",
    "    print(\"Enjoy your day\")"
   ]
  },
  {
   "cell_type": "code",
   "execution_count": null,
   "id": "0b0820e4-846c-46b5-a130-8b716fb01b20",
   "metadata": {},
   "outputs": [
    {
     "name": "stdout",
     "output_type": "stream",
     "text": [
      "Enter temperature 28\n"
     ]
    },
    {
     "name": "stdout",
     "output_type": "stream",
     "text": [
      "it's a normal day\n"
     ]
    }
   ],
   "source": [
    "temperature = int(input(\"Enter temperature\"))\n",
    "\n",
    "if temperature > 30:\n",
    "    print(\"it's a hot day\")\n",
    "elif temperature < 10:\n",
    "    print(\"It's a cold day\")\n",
    "else:\n",
    "    print(\"it's a normal day\")\n",
    "\n"
   ]
  },
  {
   "cell_type": "code",
   "execution_count": null,
   "id": "4b45a530-626a-4567-99be-703668c379dd",
   "metadata": {},
   "outputs": [
    {
     "name": "stdout",
     "output_type": "stream",
     "text": [
      "Enter your name Chris\n"
     ]
    },
    {
     "name": "stdout",
     "output_type": "stream",
     "text": [
      "name looks good!\n"
     ]
    }
   ],
   "source": [
    "name = input(\"Enter your name\")\n",
    "if len(name) < 3:\n",
    "    print(\"Name must be at least 3 characters\")\n",
    "elif len(name) > 50:\n",
    "    print(\"Name can be a maximum of 50 characters\")\n",
    "else:\n",
    "    print(\"Name looks good!\")"
   ]
  },
  {
   "cell_type": "code",
   "execution_count": null,
   "id": "9158bb5a-13a7-46b1-bca5-4f92ab28bfd3",
   "metadata": {},
   "outputs": [
    {
     "name": "stdout",
     "output_type": "stream",
     "text": [
      "Enter your weight 70\n",
      "(L)bs or (K)g a\n"
     ]
    },
    {
     "name": "stdout",
     "output_type": "stream",
     "text": [
      "you are 18.0 pounds\n"
     ]
    }
   ],
   "source": [
    "# Weight converter\n",
    "\n",
    "weight = int(input(\"Enter your weight\"))\n",
    "unit = input(\"(L)bs or (K)g\")\n",
    "\n",
    "if unit.upper() == \"L\":\n",
    "    converted = weight * 0.45\n",
    "    print(f\"you are {converted} kilos\")\n",
    "else:\n",
    "    unit.upper() == \"K\"\n",
    "    converted == weight / 0.45\n",
    "    print(f\"you are {converted} pounds\")\n",
    "\n",
    "    "
   ]
  },
  {
   "cell_type": "code",
   "execution_count": null,
   "id": "d669c330-b634-453f-a01e-cba2acae486c",
   "metadata": {},
   "outputs": [
    {
     "name": "stdout",
     "output_type": "stream",
     "text": [
      "\u001b[33mWARNING: Retrying (Retry(total=4, connect=None, read=None, redirect=None, status=None)) after connection broken by 'NewConnectionError('<pip._vendor.urllib3.connection.HTTPSConnection object at 0x1030901a0>: Failed to establish a new connection: [Errno 8] nodename nor servname provided, or not known')': /simple/periodictable/\u001b[0m\u001b[33m\n",
      "\u001b[0m\u001b[33mWARNING: Retrying (Retry(total=3, connect=None, read=None, redirect=None, status=None)) after connection broken by 'NewConnectionError('<pip._vendor.urllib3.connection.HTTPSConnection object at 0x102f8dd10>: Failed to establish a new connection: [Errno 8] nodename nor servname provided, or not known')': /simple/periodictable/\u001b[0m\u001b[33m\n",
      "\u001b[0m\u001b[33mWARNING: Retrying (Retry(total=2, connect=None, read=None, redirect=None, status=None)) after connection broken by 'NewConnectionError('<pip._vendor.urllib3.connection.HTTPSConnection object at 0x102f8df90>: Failed to establish a new connection: [Errno 8] nodename nor servname provided, or not known')': /simple/periodictable/\u001b[0m\u001b[33m\n",
      "\u001b[0m\u001b[33mWARNING: Retrying (Retry(total=1, connect=None, read=None, redirect=None, status=None)) after connection broken by 'NewConnectionError('<pip._vendor.urllib3.connection.HTTPSConnection object at 0x102f8e210>: Failed to establish a new connection: [Errno 8] nodename nor servname provided, or not known')': /simple/periodictable/\u001b[0m\u001b[33m\n",
      "\u001b[0m\u001b[33mWARNING: Retrying (Retry(total=0, connect=None, read=None, redirect=None, status=None)) after connection broken by 'NewConnectionError('<pip._vendor.urllib3.connection.HTTPSConnection object at 0x102f8e490>: Failed to establish a new connection: [Errno 8] nodename nor servname provided, or not known')': /simple/periodictable/\u001b[0m\u001b[33m\n",
      "\u001b[0m\u001b[31mERROR: Could not find a version that satisfies the requirement periodictable (from versions: none)\u001b[0m\u001b[31m\n",
      "\u001b[0m\u001b[31mERROR: No matching distribution found for periodictable\u001b[0m\u001b[31m\n",
      "\u001b[0mNote: you may need to restart the kernel to use updated packages.\n"
     ]
    }
   ],
   "source": [
    "pip install periodictable"
   ]
  },
  {
   "cell_type": "code",
   "execution_count": null,
   "id": "8b8b56a9-78ab-4a70-a153-4e63007c99d7",
   "metadata": {},
   "outputs": [
    {
     "ename": "ModuleNotFoundError",
     "evalue": "No module named 'periodictable'",
     "output_type": "error",
     "traceback": [
      "\u001b[31m---------------------------------------------------------------------------\u001b[39m",
      "\u001b[31mModuleNotFoundError\u001b[39m                       Traceback (most recent call last)",
      "\u001b[36mCell\u001b[39m\u001b[36m \u001b[39m\u001b[32mIn[3]\u001b[39m\u001b[32m, line 1\u001b[39m\n\u001b[32m----> \u001b[39m\u001b[32m1\u001b[39m \u001b[38;5;28;01mimport\u001b[39;00m\u001b[38;5;250m \u001b[39m\u001b[34;01mperiodictable\u001b[39;00m\n",
      "\u001b[31mModuleNotFoundError\u001b[39m: No module named 'periodictable'"
     ]
    }
   ],
   "source": [
    "import periodictable\n"
   ]
  },
  {
   "cell_type": "code",
   "execution_count": null,
   "id": "4bb7707e-bb8e-4a26-89a8-8186058fba51",
   "metadata": {},
   "outputs": [
    {
     "name": "stdout",
     "output_type": "stream",
     "text": [
      "1\n",
      "2\n",
      "3\n"
     ]
    }
   ],
   "source": [
    "# Basics of WHILE loop\n",
    "\n",
    "# Repeats a piece of code until the condition becomes False\n",
    "\n",
    "n = 1\n",
    "\n",
    "while n <= 3:\n",
    "    print(n)\n",
    "    n += 1"
   ]
  },
  {
   "cell_type": "code",
   "execution_count": null,
   "id": "b78cf659-0a62-4900-aace-87d82b52a27d",
   "metadata": {},
   "outputs": [
    {
     "name": "stdout",
     "output_type": "stream",
     "text": [
      "1\n",
      "2\n",
      "3\n",
      "4\n",
      "5\n"
     ]
    }
   ],
   "source": [
    "# for loop vs while loop\n",
    "\n",
    "# for loop needs an iterable object to iterate.\n",
    "# while loop executes based on some condition\n",
    "\n",
    "# Syntax of for loop                  Syntax of while loop\n",
    "#  for var in iterable                   while condition:\n",
    "#      do something                            do something \n",
    "\n",
    "\n",
    "# for loop is used when the number of iterations is known in advance.\n",
    "# while loop is used when the number of iterations is not known in advance\n",
    "\n",
    "# Example of for loop\n",
    "\n",
    "for i in range (1, 6):\n",
    "    print(i)"
   ]
  },
  {
   "cell_type": "code",
   "execution_count": null,
   "id": "5b7044dc-b9e8-4338-b6e9-4b6bc0a70a29",
   "metadata": {},
   "outputs": [
    {
     "name": "stdout",
     "output_type": "stream",
     "text": [
      "Enter a number 5\n"
     ]
    },
    {
     "name": "stdout",
     "output_type": "stream",
     "text": [
      "5\n"
     ]
    },
    {
     "name": "stdout",
     "output_type": "stream",
     "text": [
      "Enter a number 3\n"
     ]
    },
    {
     "name": "stdout",
     "output_type": "stream",
     "text": [
      "3\n"
     ]
    },
    {
     "name": "stdout",
     "output_type": "stream",
     "text": [
      "Enter a number 3\n"
     ]
    },
    {
     "name": "stdout",
     "output_type": "stream",
     "text": [
      "3\n"
     ]
    },
    {
     "name": "stdout",
     "output_type": "stream",
     "text": [
      "Enter a number 4\n"
     ]
    },
    {
     "name": "stdout",
     "output_type": "stream",
     "text": [
      "4\n"
     ]
    },
    {
     "name": "stdout",
     "output_type": "stream",
     "text": [
      "Enter a number a\n"
     ]
    },
    {
     "name": "stdout",
     "output_type": "stream",
     "text": [
      "a\n"
     ]
    },
    {
     "name": "stdout",
     "output_type": "stream",
     "text": [
      "Enter a number q\n"
     ]
    }
   ],
   "source": [
    "# Example of while loop\n",
    "\n",
    "while True:\n",
    "    n = input(\"Enter a number\")\n",
    "    if n == \"q\":\n",
    "        break\n",
    "    print(n)\n",
    "    "
   ]
  },
  {
   "cell_type": "code",
   "execution_count": null,
   "id": "2393caa1-4c5d-4dd0-abd1-31abd37f2d5c",
   "metadata": {},
   "outputs": [],
   "source": [
    "# Both for and while loop can run infinit items"
   ]
  },
  {
   "cell_type": "code",
   "execution_count": null,
   "id": "3aa2c62b-46f7-4daf-93f1-861497bffe06",
   "metadata": {},
   "outputs": [
    {
     "name": "stdout",
     "output_type": "stream",
     "text": [
      "1\n",
      "2\n",
      "found\n",
      "4\n",
      "5\n"
     ]
    }
   ],
   "source": [
    "nums = [1, 2, 3, 4, 5]\n",
    "\n",
    "for p in nums:\n",
    "    if p == 3:\n",
    "        print(\"found\")\n",
    "        continue\n",
    "    print(p)"
   ]
  },
  {
   "cell_type": "code",
   "execution_count": null,
   "id": "40669bd6-6eb0-4698-b3ec-f6fde45a3d77",
   "metadata": {},
   "outputs": [
    {
     "name": "stdout",
     "output_type": "stream",
     "text": [
      "1 a\n",
      "1 b\n",
      "1 c\n",
      "2 a\n",
      "2 b\n",
      "2 c\n",
      "3 a\n",
      "3 b\n",
      "3 c\n",
      "4 a\n",
      "4 b\n",
      "4 c\n",
      "5 a\n",
      "5 b\n",
      "5 c\n"
     ]
    }
   ],
   "source": [
    "# A loop within a loop\n",
    "\n",
    "nums = [1, 2, 3, 4, 5]\n",
    "\n",
    "for num in nums:\n",
    "    for letter in \"abc\":\n",
    "        print(num, letter)"
   ]
  },
  {
   "cell_type": "code",
   "execution_count": null,
   "id": "d5ed4d58-2206-4be0-be77-710bf37687e4",
   "metadata": {},
   "outputs": [
    {
     "name": "stdout",
     "output_type": "stream",
     "text": [
      "1\n",
      "2\n",
      "3\n",
      "4\n",
      "5\n",
      "6\n",
      "7\n",
      "8\n",
      "9\n",
      "10\n"
     ]
    }
   ],
   "source": [
    "for i in range(1, 11):\n",
    "    print(i)"
   ]
  },
  {
   "cell_type": "code",
   "execution_count": null,
   "id": "a861bea5-f8cb-4e23-9638-934acb4ce8f6",
   "metadata": {},
   "outputs": [
    {
     "name": "stdout",
     "output_type": "stream",
     "text": [
      "0\n",
      "1\n",
      "2\n",
      "3\n",
      "4\n"
     ]
    }
   ],
   "source": [
    "# While loop\n",
    "\n",
    "x = 0 \n",
    "\n",
    "while x < 10:\n",
    "    if x == 5:\n",
    "        break\n",
    "    print(x)\n",
    "    x += 1"
   ]
  },
  {
   "cell_type": "code",
   "execution_count": null,
   "id": "8f2d54ad-ec46-4377-b2b7-d05c92825123",
   "metadata": {},
   "outputs": [
    {
     "name": "stdout",
     "output_type": "stream",
     "text": [
      "Enter language HTML\n"
     ]
    },
    {
     "name": "stdout",
     "output_type": "stream",
     "text": [
      "No match\n"
     ]
    }
   ],
   "source": [
    "# Conditional statements.\n",
    "\n",
    "language = input(\"Enter language\")\n",
    "\n",
    "if language == \"Python\":\n",
    "    print(\"Conditional was True\")\n",
    "elif language == \"Java\":\n",
    "    print(\"Language is Java\")\n",
    "elif language == \"javascript\":\n",
    "    print(\"langauge is Javascript\")\n",
    "elif language == \"C\":\n",
    "    print(\"language is C\")\n",
    "else:\n",
    "    print(\"No match\")"
   ]
  },
  {
   "cell_type": "code",
   "execution_count": null,
   "id": "838c013d-a7d8-436a-b725-7baf18c16ab9",
   "metadata": {},
   "outputs": [
    {
     "name": "stdout",
     "output_type": "stream",
     "text": [
      "Admin page\n"
     ]
    }
   ],
   "source": [
    "user = \"Admin\"\n",
    "logged_in = True\n",
    "\n",
    "if user == \"Admin\" and logged_in:\n",
    "    print(\"Admin page\")\n",
    "else:\n",
    "    print(\"Bad cred\")"
   ]
  },
  {
   "cell_type": "code",
   "execution_count": null,
   "id": "2eee0dff-bd96-4211-9643-0030151d7973",
   "metadata": {},
   "outputs": [
    {
     "name": "stdout",
     "output_type": "stream",
     "text": [
      "False\n"
     ]
    }
   ],
   "source": [
    "a = [1, 2, 3]\n",
    "b = [1, 2, 3]\n",
    "\n",
    "print(a != b)"
   ]
  },
  {
   "cell_type": "code",
   "execution_count": null,
   "id": "de5f9b36-4fbc-4373-a762-f26413f9011d",
   "metadata": {},
   "outputs": [
    {
     "name": "stdout",
     "output_type": "stream",
     "text": [
      "4544578368\n",
      "4544578368\n"
     ]
    }
   ],
   "source": [
    "print(id(a))\n",
    "print(id(a))"
   ]
  },
  {
   "cell_type": "code",
   "execution_count": null,
   "id": "73f31067-91fa-4b39-b509-7a0804c7e24f",
   "metadata": {},
   "outputs": [
    {
     "name": "stdout",
     "output_type": "stream",
     "text": [
      "False\n"
     ]
    }
   ],
   "source": [
    "print(id(a) == id(b))"
   ]
  },
  {
   "cell_type": "code",
   "execution_count": null,
   "id": "86bf836b-8dbc-438c-955c-a77a1beaedfe",
   "metadata": {},
   "outputs": [
    {
     "name": "stdout",
     "output_type": "stream",
     "text": [
      "*\n",
      "**\n",
      "***\n",
      "****\n",
      "*****\n",
      "Done\n"
     ]
    }
   ],
   "source": [
    "i = 1\n",
    "\n",
    "while i <= 5:\n",
    "    print(\"*\" * i)\n",
    "    i = i + 1\n",
    "print(\"Done\")"
   ]
  },
  {
   "cell_type": "code",
   "execution_count": null,
   "id": "f42dbd12-3175-4070-8e39-d5bdc30a0640",
   "metadata": {},
   "outputs": [
    {
     "name": "stdout",
     "output_type": "stream",
     "text": [
      "Guess: 9\n"
     ]
    },
    {
     "name": "stdout",
     "output_type": "stream",
     "text": [
      "You won\n"
     ]
    }
   ],
   "source": [
    "# Using a while loop to make a guessing game\n",
    "\n",
    "secret_number = 9\n",
    "guess_count = 0\n",
    "guess_limit = 3\n",
    "\n",
    "while guess_count < guess_limit:\n",
    "    guess = int(input(\"Guess:\"))\n",
    "    guess_count += 1\n",
    "    if guess == secret_number:\n",
    "        print(\"You won\")\n",
    "        break\n",
    "else:\n",
    "    print(\"you fail\")"
   ]
  },
  {
   "cell_type": "code",
   "execution_count": null,
   "id": "7cab917f-649d-4192-9950-1d261cbb835c",
   "metadata": {},
   "outputs": [
    {
     "name": "stdout",
     "output_type": "stream",
     "text": [
      "> help\n"
     ]
    },
    {
     "name": "stdout",
     "output_type": "stream",
     "text": [
      "\n",
      "start - to start the car\n",
      "stop - to stop the car \n",
      "quit - to quit\n"
     ]
    },
    {
     "name": "stdout",
     "output_type": "stream",
     "text": [
      "> quit\n"
     ]
    }
   ],
   "source": [
    "command = \"\"\n",
    "\n",
    "while True:\n",
    "    command = input(\">\").lower()\n",
    "    if command == \"start\":\n",
    "        print(\"car started...\")\n",
    "    elif command == \"stop\":\n",
    "        print(\"car stopped...\")\n",
    "    elif command == \"help\":\n",
    "        print(\"\"\"\n",
    "start - to start the car\n",
    "stop - to stop the car \n",
    "quit - to quit\"\"\")\n",
    "    elif command == \"quit\":\n",
    "        break\n",
    "    else:\n",
    "        print(\"Sorry, I dont't understand that\")\n",
    "    "
   ]
  },
  {
   "cell_type": "code",
   "execution_count": null,
   "id": "4ce4a2e9-e49b-45cb-a04c-d25c55029762",
   "metadata": {},
   "outputs": [
    {
     "name": "stdout",
     "output_type": "stream",
     "text": [
      "('Hello ', 'Friend', 'you are doing great.')\n"
     ]
    }
   ],
   "source": [
    "def greet(name):\n",
    "    return (f\"Hello \", name,  \"you are doing great.\")\n",
    "print(greet(\"Friend\"))"
   ]
  },
  {
   "cell_type": "code",
   "execution_count": null,
   "id": "b18425e1-52f2-4811-bec7-865c82c51545",
   "metadata": {},
   "outputs": [
    {
     "name": "stdout",
     "output_type": "stream",
     "text": [
      "Hello, Ada!\n"
     ]
    }
   ],
   "source": [
    "def greet(name):\n",
    "    print(f\"Hello, {name}!\")\n",
    "greet(\"Ada\")"
   ]
  },
  {
   "cell_type": "code",
   "execution_count": null,
   "id": "8483f614-651f-48b5-8ed7-2aa67ea00f0f",
   "metadata": {},
   "outputs": [
    {
     "name": "stdout",
     "output_type": "stream",
     "text": [
      "Positive\n"
     ]
    }
   ],
   "source": [
    "def check_number(n):\n",
    "    if n < 0:\n",
    "        return \"Negative\"\n",
    "    else:\n",
    "        return \"Positive\" or \"zero\"\n",
    "\n",
    "print(check_number(0))"
   ]
  },
  {
   "cell_type": "code",
   "execution_count": null,
   "id": "18a5407b-c0e1-4cae-a363-d713aa95a1c2",
   "metadata": {},
   "outputs": [
    {
     "name": "stdout",
     "output_type": "stream",
     "text": [
      "True\n"
     ]
    }
   ],
   "source": [
    "#a = int(input(\"Enter a number\"))\n",
    "def is_even(a):\n",
    "    if a % 2 == 0:\n",
    "        return True\n",
    "    else:\n",
    "        return False\n",
    "print(is_even(4))"
   ]
  },
  {
   "cell_type": "code",
   "execution_count": null,
   "id": "851c7df6-5928-4e07-890b-5cfa01d4bfec",
   "metadata": {},
   "outputs": [
    {
     "name": "stdout",
     "output_type": "stream",
     "text": [
      "Enter a number 3\n"
     ]
    },
    {
     "ename": "TypeError",
     "evalue": "not all arguments converted during string formatting",
     "output_type": "error",
     "traceback": [
      "\u001b[31m---------------------------------------------------------------------------\u001b[39m",
      "\u001b[31mTypeError\u001b[39m                                 Traceback (most recent call last)",
      "\u001b[36mCell\u001b[39m\u001b[36m \u001b[39m\u001b[32mIn[48]\u001b[39m\u001b[32m, line 11\u001b[39m\n\u001b[32m      9\u001b[39m         \u001b[38;5;28;01mreturn\u001b[39;00m number\n\u001b[32m     10\u001b[39m         \u001b[38;5;28mprint\u001b[39m(\u001b[33m\"\u001b[39m\u001b[33mIs not a multiple of 3\u001b[39m\u001b[33m\"\u001b[39m)\n\u001b[32m---> \u001b[39m\u001b[32m11\u001b[39m \u001b[38;5;28mprint\u001b[39m(\u001b[43mis_multiple_of_three\u001b[49m\u001b[43m(\u001b[49m\u001b[33;43m\"\u001b[39;49m\u001b[33;43mCorrect\u001b[39;49m\u001b[33;43m\"\u001b[39;49m\u001b[43m)\u001b[49m)\n",
      "\u001b[36mCell\u001b[39m\u001b[36m \u001b[39m\u001b[32mIn[48]\u001b[39m\u001b[32m, line 5\u001b[39m, in \u001b[36mis_multiple_of_three\u001b[39m\u001b[34m(number)\u001b[39m\n\u001b[32m      3\u001b[39m \u001b[38;5;28;01mdef\u001b[39;00m\u001b[38;5;250m \u001b[39m\u001b[34mis_multiple_of_three\u001b[39m(number):\n\u001b[32m----> \u001b[39m\u001b[32m5\u001b[39m     \u001b[38;5;28;01mif\u001b[39;00m \u001b[43mnumber\u001b[49m\u001b[43m \u001b[49m\u001b[43m%\u001b[49m\u001b[43m \u001b[49m\u001b[32;43m3\u001b[39;49m == \u001b[32m0\u001b[39m:\n\u001b[32m      6\u001b[39m         \u001b[38;5;28;01mreturn\u001b[39;00m number\n\u001b[32m      7\u001b[39m         \u001b[38;5;28mprint\u001b[39m(\u001b[33m\"\u001b[39m\u001b[33mIt is a multiple of 3\u001b[39m\u001b[33m\"\u001b[39m)\n",
      "\u001b[31mTypeError\u001b[39m: not all arguments converted during string formatting"
     ]
    }
   ],
   "source": [
    "is_multiple_of_three = (input(\"Enter a number\"))\n",
    "\n",
    "def is_multiple_of_three(number):\n",
    "\n",
    "    if number % 3 == 0:\n",
    "        return number\n",
    "        print(\"It is a multiple of 3\")\n",
    "    else:\n",
    "        return number\n",
    "        print(\"Is not a multiple of 3\")\n",
    "print(is_multiple_of_three(\"Correct\"))\n"
   ]
  },
  {
   "cell_type": "code",
   "execution_count": null,
   "id": "285f74d1-e4c1-46ed-805c-7d19bfd90fd9",
   "metadata": {},
   "outputs": [
    {
     "name": "stdout",
     "output_type": "stream",
     "text": [
      "Enter a number 3\n"
     ]
    },
    {
     "name": "stdout",
     "output_type": "stream",
     "text": [
      "Positve number\n"
     ]
    }
   ],
   "source": [
    "number = int(input(\"Enter a number\"))\n",
    "\n",
    "if number > 0:\n",
    "    print(\"Positve number\")\n",
    "else:\n",
    "    print(\"Negative number\")"
   ]
  },
  {
   "cell_type": "code",
   "execution_count": null,
   "id": "76b08072-2165-4224-b052-06ea51323884",
   "metadata": {},
   "outputs": [
    {
     "name": "stdout",
     "output_type": "stream",
     "text": [
      "Enter your age 20\n"
     ]
    },
    {
     "name": "stdout",
     "output_type": "stream",
     "text": [
      "Adult\n"
     ]
    }
   ],
   "source": [
    "age = int(input(\"Enter your age\"))\n",
    "if age < 13:\n",
    "    print(\"Child\")\n",
    "elif 13 < age <= 19:\n",
    "    print(\"Teen\")\n",
    "else:\n",
    "    print(\"Adult\")"
   ]
  },
  {
   "cell_type": "code",
   "execution_count": null,
   "id": "df7cf459-b04a-4479-a5fe-db627f7a147a",
   "metadata": {},
   "outputs": [
    {
     "name": "stdout",
     "output_type": "stream",
     "text": [
      "Enter first number 2\n",
      "Enter second number 3\n"
     ]
    },
    {
     "name": "stdout",
     "output_type": "stream",
     "text": [
      "Smaller one\n"
     ]
    }
   ],
   "source": [
    "first_number = int(input(\"Enter first number\"))\n",
    "second_number = int(input(\"Enter second number\"))\n",
    "\n",
    "if first_number > second_number:\n",
    "    print(\"Larger one\")\n",
    "elif first_number == second_number:\n",
    "    print(\"Equal\")\n",
    "else:\n",
    "    print(\"Smaller one\")"
   ]
  },
  {
   "cell_type": "code",
   "execution_count": null,
   "id": "8b77c01c-fb97-41b9-b3b8-c33447ff3286",
   "metadata": {},
   "outputs": [
    {
     "name": "stdout",
     "output_type": "stream",
     "text": [
      "Enter a number 4\n",
      "Enter a number 7\n"
     ]
    },
    {
     "name": "stdout",
     "output_type": "stream",
     "text": [
      "The largest of the number is 7\n",
      "None\n"
     ]
    }
   ],
   "source": [
    "\n",
    "def largest_of_two(num1, num2):\n",
    "    num1 = int(input(\"Enter a number\"))\n",
    "    num2 = int(input(\"Enter a number\"))\n",
    "    if num1 > num2: \n",
    "        print(f\"the largest of the number is {num1}\")\n",
    "    elif num2 > num1:\n",
    "        print(f\"The largest of the number is {num2}\")\n",
    "    else:\n",
    "        print(\"Both are equal \")\n",
    "print(largest_of_two(num1, num2))\n"
   ]
  },
  {
   "cell_type": "code",
   "execution_count": null,
   "id": "8a3e03fc-e5bb-4cf0-8533-5e059c8d4f08",
   "metadata": {},
   "outputs": [
    {
     "name": "stdout",
     "output_type": "stream",
     "text": [
      "Enter a number 5\n"
     ]
    },
    {
     "name": "stdout",
     "output_type": "stream",
     "text": [
      "Odd number 5\n",
      "None\n"
     ]
    }
   ],
   "source": [
    "\n",
    "def check_odd_even_number(number):\n",
    "    number = int(input(\"Enter a number\"))\n",
    "    if number % 2 == 0:\n",
    "        print(f\"Even number {number}\")\n",
    "    else:\n",
    "        print(f\"Odd number {number}\")\n",
    "print(check_odd_even_number(number))\n",
    "\n",
    "\n"
   ]
  },
  {
   "cell_type": "code",
   "execution_count": null,
   "id": "28802aa8-5869-4e14-b0c2-252267052624",
   "metadata": {},
   "outputs": [
    {
     "name": "stdout",
     "output_type": "stream",
     "text": [
      "Enter score 70\n"
     ]
    },
    {
     "name": "stdout",
     "output_type": "stream",
     "text": [
      "C\n"
     ]
    }
   ],
   "source": [
    "def grade_checker(score):\n",
    "    score = int(input(\"Enter score\"))\n",
    "    if score >= 90:\n",
    "        return \"A\"\n",
    "    elif score >= 80:\n",
    "        return \"B\"\n",
    "    elif score >= 70:\n",
    "        return \"C\"\n",
    "    elif score >= 60:\n",
    "        return \"D\"\n",
    "    else:\n",
    "        return \"F\"\n",
    "print(grade_checker(0))"
   ]
  },
  {
   "cell_type": "code",
   "execution_count": null,
   "id": "a64d067a-2020-4a01-8fa3-2da3371f64a9",
   "metadata": {},
   "outputs": [
    {
     "name": "stdout",
     "output_type": "stream",
     "text": [
      "1\n",
      "2\n",
      "3\n",
      "4\n",
      "5\n",
      "6\n",
      "7\n",
      "8\n",
      "9\n",
      "10\n"
     ]
    }
   ],
   "source": [
    "number = 1\n",
    "while number <= 10:\n",
    "    print(number)\n",
    "    number += 1"
   ]
  },
  {
   "cell_type": "code",
   "execution_count": null,
   "id": "5d8111ef-ded8-458d-9902-af2a98a2a58c",
   "metadata": {},
   "outputs": [
    {
     "name": "stdout",
     "output_type": "stream",
     "text": [
      "Enter a password dfhshgv\n"
     ]
    },
    {
     "name": "stdout",
     "output_type": "stream",
     "text": [
      "Wrong password, try again\n"
     ]
    },
    {
     "name": "stdout",
     "output_type": "stream",
     "text": [
      "Enter a password admin123\n"
     ]
    },
    {
     "name": "stdout",
     "output_type": "stream",
     "text": [
      "Access granted\n"
     ]
    }
   ],
   "source": [
    "password = \"\"\n",
    "\n",
    "while password != \"admin123\":\n",
    "    password = input(\"Enter a password\")\n",
    "    if password != \"admin123\":\n",
    "        print(\"Wrong password, try again\")\n",
    "print(\"Access granted\")\n",
    "    "
   ]
  },
  {
   "cell_type": "code",
   "execution_count": null,
   "id": "10ea9107-552b-4745-9d27-084f696b5295",
   "metadata": {},
   "outputs": [
    {
     "name": "stdout",
     "output_type": "stream",
     "text": [
      "      May 2025\n",
      "Mo Tu We Th Fr Sa Su\n",
      "          1  2  3  4\n",
      " 5  6  7  8  9 10 11\n",
      "12 13 14 15 16 17 18\n",
      "19 20 21 22 23 24 25\n",
      "26 27 28 29 30 31\n",
      "\n"
     ]
    }
   ],
   "source": [
    "import calendar\n",
    "\n",
    "print(calendar.month(2025,5))\n",
    "\n",
    "# print(calendar.isleap(2040))"
   ]
  },
  {
   "cell_type": "code",
   "execution_count": null,
   "id": "b46fc0fb-274d-40b8-b68b-d48e3bbb5915",
   "metadata": {},
   "outputs": [
    {
     "name": "stdout",
     "output_type": "stream",
     "text": [
      "Ukaigwe\n"
     ]
    }
   ],
   "source": [
    "Uchechi = \"Ukaigwe\"\n",
    "print(Uchechi)"
   ]
  },
  {
   "cell_type": "code",
   "execution_count": null,
   "id": "275de342-b9a1-4651-b334-d5d9dc43df17",
   "metadata": {},
   "outputs": [],
   "source": [
    "name2 = input(\"Enter your name\")\n",
    "print(f\"hi {name2} nice to meet you\")"
   ]
  }
 ],
 "metadata": {
  "kernelspec": {
   "display_name": "Python 3",
   "language": "python",
   "name": "python3"
  },
  "language_info": {
   "codemirror_mode": {
    "name": "ipython",
    "version": 3
   },
   "file_extension": ".py",
   "mimetype": "text/x-python",
   "name": "python",
   "nbconvert_exporter": "python",
   "pygments_lexer": "ipython3",
   "version": "3.13.2"
  }
 },
 "nbformat": 4,
 "nbformat_minor": 5
}
print("hello")
