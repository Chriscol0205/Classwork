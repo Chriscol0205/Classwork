{
 "cells": [
  {
   "cell_type": "code",
   "execution_count": null,
   "id": "e332b01e-b448-477d-a1aa-f74656cdc7e7",
   "metadata": {},
   "outputs": [
    {
     "name": "stdout",
     "output_type": "stream",
     "text": [
      "5\n"
     ]
    }
   ],
   "source": [
    "a = 2 + 3\n",
    "print(a)"
   ]
  },
  {
   "cell_type": "code",
   "execution_count": null,
   "id": "01a04570-d91a-4750-a206-7049c62970f1",
   "metadata": {},
   "outputs": [],
   "source": [
    "import calendar \n",
    "\n",
    "year = int(input(\"Enter the year\"))\n",
    "month = int(input(\"Enter the month\"))\n",
    "\n",
    "print(calendar.month(year, month))"
   ]
  },
  {
   "cell_type": "code",
   "execution_count": 1,
   "id": "aa2b3b4a-067b-4d44-a8ce-77d95d2bb745",
   "metadata": {},
   "outputs": [
    {
     "name": "stdout",
     "output_type": "stream",
     "text": [
      "My name is Chisom\n"
     ]
    }
   ],
   "source": [
    "print(\"My name is Chisom\")"
   ]
  },
  {
   "cell_type": "code",
   "execution_count": 2,
   "id": "9de90f4a-f282-4006-bbbf-4345cc751df9",
   "metadata": {},
   "outputs": [
    {
     "name": "stdout",
     "output_type": "stream",
     "text": [
      "I am Christian\n"
     ]
    }
   ],
   "source": [
    "print(\"I am Christian\")"
   ]
  },
  {
   "cell_type": "code",
   "execution_count": 1,
   "id": "d090a600-205e-46b4-9b21-5d7cdbc7b6b1",
   "metadata": {},
   "outputs": [
    {
     "name": "stdout",
     "output_type": "stream",
     "text": [
      "Hi\n"
     ]
    }
   ],
   "source": [
    "print(\"Hi\")"
   ]
  }
 ],
 "metadata": {
  "kernelspec": {
   "display_name": "Python 3",
   "language": "python",
   "name": "python3"
  },
  "language_info": {
   "codemirror_mode": {
    "name": "ipython",
    "version": 3
   },
   "file_extension": ".py",
   "mimetype": "text/x-python",
   "name": "python",
   "nbconvert_exporter": "python",
   "pygments_lexer": "ipython3",
   "version": "3.13.2"
  }
 },
 "nbformat": 4,
 "nbformat_minor": 5
}
